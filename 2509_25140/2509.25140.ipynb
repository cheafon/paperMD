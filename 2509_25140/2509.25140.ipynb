{
 "cells": [
  {
   "metadata": {},
   "cell_type": "markdown",
   "source": [
    "# intro\n",
    "任务都是孤立的，所以没有办法积累长期的宝贵经验，拥有自进化的能力。之前的记忆模式有两个局限性，一是无法提炼高层次、可迁移的推理模式；二是过度强调成功经验，而忽略了失败的宝贵经验。\n",
    "\n",
    "使用并行和串行两种机制引入记忆感知和测试时扩展。高质量的记忆引导更有前景的路径，而生成的经验又能构建强大的记忆，互相迭代。\n",
    "具体方法：\n",
    "1. 提出ReasoningBank的记忆框架，从成功和失败中提取可泛化的推理策略\n",
    "2. 引入MaTTS，记忆与测试时扩展协同\n",
    "\n",
    "# method\n",
    "ReasoningBank：相当于错题本，这个错题本记录着正确和失败的方法，可以指导agent进行规划\n",
    "\n",
    "MaTTS：相当于助教，不断的去更迭错题本\n",
    "    并行：通过多种路径，进行对比，得出结论，提取经验\n",
    "    串行：反复检查一个路径，每次发现问题就要改进"
   ],
   "id": "e5f6b870818f1194"
  }
 ],
 "metadata": {
  "kernelspec": {
   "display_name": "Python 3",
   "language": "python",
   "name": "python3"
  },
  "language_info": {
   "codemirror_mode": {
    "name": "ipython",
    "version": 2
   },
   "file_extension": ".py",
   "mimetype": "text/x-python",
   "name": "python",
   "nbconvert_exporter": "python",
   "pygments_lexer": "ipython2",
   "version": "2.7.6"
  }
 },
 "nbformat": 4,
 "nbformat_minor": 5
}
